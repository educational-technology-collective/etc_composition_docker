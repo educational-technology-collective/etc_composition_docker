{
 "cells": [
  {
   "cell_type": "markdown",
   "id": "c6501df5-89df-42dc-8128-eaa91b4fc196",
   "metadata": {},
   "source": [
    "# ETC JupyterLab Binder"
   ]
  },
  {
   "cell_type": "code",
   "execution_count": null,
   "id": "94ffc4b0-4805-4ed4-8575-a26647e7db27",
   "metadata": {},
   "outputs": [],
   "source": [
    "# ETC JupyterLab Binder"
   ]
  }
 ],
 "metadata": {
  "kernelspec": {
   "display_name": "Python 3",
   "language": "python",
   "name": "python3"
  },
  "language_info": {
   "codemirror_mode": {
    "name": "ipython",
    "version": 3
   },
   "file_extension": ".py",
   "mimetype": "text/x-python",
   "name": "python",
   "nbconvert_exporter": "python",
   "pygments_lexer": "ipython3",
   "version": "3.9.5"
  }
 },
 "nbformat": 4,
 "nbformat_minor": 5
}
