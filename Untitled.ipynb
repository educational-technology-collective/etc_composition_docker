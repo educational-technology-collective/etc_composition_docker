{
 "cells": [
  {
   "cell_type": "code",
   "execution_count": null,
   "id": "47f7a0a2-4b8e-4cfa-b297-799f562d4d99",
   "metadata": {},
   "outputs": [],
   "source": []
  }
 ],
 "metadata": {
  "kernelspec": {
   "display_name": "Python 3",
   "language": "python",
   "name": "python3"
  },
  "language_info": {
   "name": ""
  }
 },
 "nbformat": 4,
 "nbformat_minor": 5
}
